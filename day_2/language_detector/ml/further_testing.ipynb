{
 "cells": [
  {
   "cell_type": "code",
   "execution_count": 5,
   "metadata": {},
   "outputs": [
    {
     "name": "stdout",
     "output_type": "stream",
     "text": [
      "             precision    recall  f1-score   support\n",
      "\n",
      "          0       1.00      1.00      1.00        62\n",
      "          1       0.97      0.98      0.97       193\n",
      "          2       0.91      0.99      0.95       221\n",
      "          3       0.95      0.94      0.95       213\n",
      "          4       0.97      0.99      0.98       223\n",
      "          5       0.97      0.97      0.97       198\n",
      "          6       1.00      0.82      0.90        78\n",
      "          7       0.99      0.96      0.98       112\n",
      "          8       0.97      0.94      0.95       207\n",
      "          9       1.00      0.98      0.99       185\n",
      "\n",
      "avg / total       0.97      0.97      0.96      1692\n",
      "\n",
      "[[ 62   0   0   0   0   0   0   0   0   0]\n",
      " [  0 189   3   1   0   0   0   0   0   0]\n",
      " [  0   1 219   0   1   0   0   0   0   0]\n",
      " [  0   0   1 201   0   4   0   1   6   0]\n",
      " [  0   0   1   1 221   0   0   0   0   0]\n",
      " [  0   0   3   2   0 193   0   0   0   0]\n",
      " [  0   5   6   1   2   0  64   0   0   0]\n",
      " [  0   0   2   0   1   0   0 108   1   0]\n",
      " [  0   0   2   6   4   0   0   0 195   0]\n",
      " [  0   0   3   0   0   1   0   0   0 181]]\n"
     ]
    }
   ],
   "source": [
    "import numpy as np\n",
    "from sklearn.datasets import load_files\n",
    "# The training data folder must be passed as first argument\n",
    "try:\n",
    "    dataset = load_files('./wikidata/short_paragraphs')\n",
    "except OSError as ex:\n",
    "    print(ex)\n",
    "    print(\"Couldn't import the data, did you unzip the wikidata.zip folder?\")\n",
    "    exit(-1)\n",
    "docs = dataset.data\n",
    "y = dataset.target\n",
    "\n",
    "# TASK: Split the dataset in training and test set\n",
    "# (use 20% of the data for test):\n",
    "from sklearn.model_selection import train_test_split\n",
    "docs_train, docs_test, y_train, y_test = train_test_split(\n",
    "    docs, y, test_size=0.20, random_state=42)\n",
    "\n",
    "# TASK: Build a an vectorizer that splits\n",
    "# strings into sequence of 1 to 3\n",
    "# characters instead of word tokens\n",
    "# using the class TfidfVectorizer\n",
    "from sklearn.feature_extraction.text import TfidfVectorizer\n",
    "vectorizer = TfidfVectorizer(ngram_range=(1, 4),\n",
    "                             analyzer='char')\n",
    "\n",
    "# TASK: Use the function make_pipeline to build a\n",
    "#       vectorizer / classifier pipeline\n",
    "#       using the previous analyzer\n",
    "#       and a classifier of choice.\n",
    "#       The pipeline instance should be\n",
    "#       stored in a variable named model\n",
    "from sklearn.pipeline import make_pipeline\n",
    "from sklearn.linear_model import LogisticRegression\n",
    "clf = LogisticRegression()\n",
    "model = make_pipeline(vectorizer, clf)\n",
    "\n",
    "# TASK: Fit the pipeline on the training set\n",
    "model.fit(docs_train, y_train)\n",
    "\n",
    "# TASK: Predict the outcome on the testing set.\n",
    "# Store the result in a variable named y_predicted\n",
    "y_predicted = model.predict(docs_test)\n",
    "\n",
    "# TASK: Print the classification report\n",
    "from sklearn.metrics import classification_report\n",
    "print(classification_report(y_test, y_predicted))\n",
    "\n",
    "# TASK: Print the confusion matrix. Bonus points if you make it pretty.\n",
    "from sklearn.metrics import confusion_matrix\n",
    "print(confusion_matrix(y_test, y_predicted))"
   ]
  },
  {
   "cell_type": "markdown",
   "metadata": {},
   "source": [
    "Try using a different ngram size-- 4 seems to perform well:"
   ]
  },
  {
   "cell_type": "code",
   "execution_count": 6,
   "metadata": {},
   "outputs": [
    {
     "name": "stdout",
     "output_type": "stream",
     "text": [
      "             precision    recall  f1-score   support\n",
      "\n",
      "          0       1.00      1.00      1.00        62\n",
      "          1       0.97      0.98      0.97       193\n",
      "          2       0.91      0.99      0.95       221\n",
      "          3       0.95      0.94      0.95       213\n",
      "          4       0.97      0.99      0.98       223\n",
      "          5       0.97      0.97      0.97       198\n",
      "          6       1.00      0.82      0.90        78\n",
      "          7       0.99      0.96      0.98       112\n",
      "          8       0.97      0.94      0.95       207\n",
      "          9       1.00      0.98      0.99       185\n",
      "\n",
      "avg / total       0.97      0.97      0.96      1692\n",
      "\n",
      "[[ 62   0   0   0   0   0   0   0   0   0]\n",
      " [  0 189   3   1   0   0   0   0   0   0]\n",
      " [  0   1 219   0   1   0   0   0   0   0]\n",
      " [  0   0   1 201   0   4   0   1   6   0]\n",
      " [  0   0   1   1 221   0   0   0   0   0]\n",
      " [  0   0   3   2   0 193   0   0   0   0]\n",
      " [  0   5   6   1   2   0  64   0   0   0]\n",
      " [  0   0   2   0   1   0   0 108   1   0]\n",
      " [  0   0   2   6   4   0   0   0 195   0]\n",
      " [  0   0   3   0   0   1   0   0   0 181]]\n"
     ]
    }
   ],
   "source": [
    "docs_train, docs_test, y_train, y_test = train_test_split(\n",
    "    docs, y, test_size=0.20, random_state=42)\n",
    "\n",
    "vectorizer = TfidfVectorizer(ngram_range=(1, 4),\n",
    "                             analyzer='char')\n",
    "\n",
    "clf = LogisticRegression()\n",
    "model = make_pipeline(vectorizer, clf)\n",
    "model.fit(docs_train, y_train)\n",
    "\n",
    "y_predicted = model.predict(docs_test)\n",
    "\n",
    "print(classification_report(y_test, y_predicted))\n",
    "\n",
    "print(confusion_matrix(y_test, y_predicted))\n"
   ]
  },
  {
   "cell_type": "code",
   "execution_count": 11,
   "metadata": {},
   "outputs": [
    {
     "name": "stdout",
     "output_type": "stream",
     "text": [
      "             precision    recall  f1-score   support\n",
      "\n",
      "          0       1.00      1.00      1.00        28\n",
      "          1       0.97      0.97      0.97       107\n",
      "          2       0.96      1.00      0.98       109\n",
      "          3       0.95      0.92      0.93       121\n",
      "          4       0.98      1.00      0.99       106\n",
      "          5       0.97      0.99      0.98        96\n",
      "          6       1.00      0.87      0.93        39\n",
      "          7       0.98      0.98      0.98        51\n",
      "          8       0.93      0.95      0.94        98\n",
      "          9       1.00      0.99      0.99        91\n",
      "\n",
      "avg / total       0.97      0.97      0.97       846\n",
      "\n",
      "[[ 28   0   0   0   0   0   0   0   0   0]\n",
      " [  0 104   2   1   0   0   0   0   0   0]\n",
      " [  0   0 109   0   0   0   0   0   0   0]\n",
      " [  0   0   0 111   0   3   0   1   6   0]\n",
      " [  0   0   0   0 106   0   0   0   0   0]\n",
      " [  0   0   0   1   0  95   0   0   0   0]\n",
      " [  0   3   1   0   1   0  34   0   0   0]\n",
      " [  0   0   0   0   0   0   0  50   1   0]\n",
      " [  0   0   0   4   1   0   0   0  93   0]\n",
      " [  0   0   1   0   0   0   0   0   0  90]]\n"
     ]
    }
   ],
   "source": [
    "docs_train, docs_test, y_train, y_test = train_test_split(\n",
    "    docs, y, test_size=0.10, random_state=42)\n",
    "\n",
    "vectorizer = TfidfVectorizer(ngram_range=(1, 4),\n",
    "                             analyzer='char')\n",
    "\n",
    "clf = LogisticRegression()\n",
    "model = make_pipeline(vectorizer, clf)\n",
    "model.fit(docs_train, y_train)\n",
    "\n",
    "y_predicted = model.predict(docs_test)\n",
    "\n",
    "print(classification_report(y_test, y_predicted))\n",
    "\n",
    "print(confusion_matrix(y_test, y_predicted))"
   ]
  },
  {
   "cell_type": "code",
   "execution_count": 12,
   "metadata": {},
   "outputs": [
    {
     "data": {
      "text/plain": [
       "['ar', 'de', 'en', 'es', 'fr', 'it', 'nl', 'pl', 'pt', 'ru']"
      ]
     },
     "execution_count": 12,
     "metadata": {},
     "output_type": "execute_result"
    }
   ],
   "source": [
    "dataset.target_names"
   ]
  },
  {
   "cell_type": "code",
   "execution_count": 24,
   "metadata": {},
   "outputs": [
    {
     "name": "stdout",
     "output_type": "stream",
     "text": [
      "             precision    recall  f1-score   support\n",
      "\n",
      "          0       1.00      1.00      1.00        62\n",
      "          1       0.85      0.91      0.88       193\n",
      "          2       0.73      0.92      0.81       221\n",
      "          3       0.71      0.69      0.70       213\n",
      "          4       0.82      0.82      0.82       223\n",
      "          5       0.80      0.86      0.83       198\n",
      "          6       1.00      0.42      0.59        78\n",
      "          7       1.00      0.92      0.96       112\n",
      "          8       0.82      0.73      0.77       207\n",
      "          9       1.00      0.98      0.99       185\n",
      "\n",
      "avg / total       0.84      0.83      0.83      1692\n",
      "\n",
      "[[ 62   0   0   0   0   0   0   0   0   0]\n",
      " [  0 176   6   3   5   1   0   0   2   0]\n",
      " [  0   3 203   5   8   1   0   0   1   0]\n",
      " [  0   1  15 148   7  19   0   0  23   0]\n",
      " [  0   5  15  13 183   6   0   0   1   0]\n",
      " [  0   1  10   6   6 170   0   0   5   0]\n",
      " [  0  21  15   0   7   2  33   0   0   0]\n",
      " [  0   0   4   3   0   1   0 103   1   0]\n",
      " [  0   0   8  29   7  12   0   0 151   0]\n",
      " [  0   0   2   0   0   1   0   0   0 182]]\n"
     ]
    }
   ],
   "source": [
    "from sklearn.ensemble import RandomForestClassifier\n",
    "docs_train, docs_test, y_train, y_test = train_test_split(\n",
    "    docs, y, test_size=0.2, random_state=42)\n",
    "\n",
    "vectorizer = TfidfVectorizer(ngram_range=(1, 4),\n",
    "                             analyzer='char')\n",
    "\n",
    "clf = RandomForestClassifier()\n",
    "model = make_pipeline(vectorizer, clf)\n",
    "model.fit(docs_train, y_train)\n",
    "\n",
    "y_predicted = model.predict(docs_test)\n",
    "\n",
    "print(classification_report(y_test, y_predicted))\n",
    "\n",
    "print(confusion_matrix(y_test, y_predicted))"
   ]
  },
  {
   "cell_type": "code",
   "execution_count": 26,
   "metadata": {},
   "outputs": [
    {
     "name": "stdout",
     "output_type": "stream",
     "text": [
      "             precision    recall  f1-score   support\n",
      "\n",
      "          0       1.00      1.00      1.00        28\n",
      "          1       1.00      0.99      1.00       107\n",
      "          2       0.99      1.00      1.00       109\n",
      "          3       0.95      0.94      0.95       121\n",
      "          4       0.98      1.00      0.99       106\n",
      "          5       0.97      0.99      0.98        96\n",
      "          6       1.00      1.00      1.00        39\n",
      "          7       1.00      0.98      0.99        51\n",
      "          8       0.96      0.95      0.95        98\n",
      "          9       1.00      0.99      0.99        91\n",
      "\n",
      "avg / total       0.98      0.98      0.98       846\n",
      "\n",
      "[[ 28   0   0   0   0   0   0   0   0   0]\n",
      " [  0 106   0   1   0   0   0   0   0   0]\n",
      " [  0   0 109   0   0   0   0   0   0   0]\n",
      " [  0   0   0 114   1   3   0   0   3   0]\n",
      " [  0   0   0   0 106   0   0   0   0   0]\n",
      " [  0   0   0   1   0  95   0   0   0   0]\n",
      " [  0   0   0   0   0   0  39   0   0   0]\n",
      " [  0   0   0   0   0   0   0  50   1   0]\n",
      " [  0   0   0   4   1   0   0   0  93   0]\n",
      " [  0   0   1   0   0   0   0   0   0  90]]\n"
     ]
    }
   ],
   "source": [
    "docs_train, docs_test, y_train, y_test = train_test_split(\n",
    "    docs, y, test_size=0.10, random_state=42)\n",
    "\n",
    "vectorizer = TfidfVectorizer(ngram_range=(1, 4),\n",
    "                             analyzer='char')\n",
    "\n",
    "clf = LogisticRegression(C=10)\n",
    "model = make_pipeline(vectorizer, clf)\n",
    "model.fit(docs_train, y_train)\n",
    "\n",
    "y_predicted = model.predict(docs_test)\n",
    "\n",
    "print(classification_report(y_test, y_predicted))\n",
    "\n",
    "print(confusion_matrix(y_test, y_predicted))"
   ]
  },
  {
   "cell_type": "code",
   "execution_count": 27,
   "metadata": {},
   "outputs": [],
   "source": [
    "import gzip\n",
    "import dill\n",
    "with gzip.open('my_model.dill.gz', 'wb') as f:\n",
    "    dill.dump([model, dataset.target_names], f)"
   ]
  },
  {
   "cell_type": "code",
   "execution_count": null,
   "metadata": {},
   "outputs": [],
   "source": []
  }
 ],
 "metadata": {
  "kernelspec": {
   "display_name": "Python 3",
   "language": "python",
   "name": "python3"
  },
  "language_info": {
   "codemirror_mode": {
    "name": "ipython",
    "version": 3
   },
   "file_extension": ".py",
   "mimetype": "text/x-python",
   "name": "python",
   "nbconvert_exporter": "python",
   "pygments_lexer": "ipython3",
   "version": "3.6.6"
  }
 },
 "nbformat": 4,
 "nbformat_minor": 2
}
