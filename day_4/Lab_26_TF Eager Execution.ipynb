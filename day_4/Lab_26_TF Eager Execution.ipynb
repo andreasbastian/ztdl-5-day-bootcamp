{
 "cells": [
  {
   "cell_type": "markdown",
   "metadata": {},
   "source": [
    "# Eager Execution\n",
    "\n",
    "Adapted from: https://www.tensorflow.org/get_started/eager"
   ]
  },
  {
   "cell_type": "code",
   "execution_count": 1,
   "metadata": {},
   "outputs": [],
   "source": [
    "import os\n",
    "import matplotlib.pyplot as plt\n",
    "\n",
    "import tensorflow as tf\n",
    "import tensorflow.contrib.eager as tfe\n",
    "tf.enable_eager_execution()"
   ]
  },
  {
   "cell_type": "code",
   "execution_count": 2,
   "metadata": {},
   "outputs": [],
   "source": [
    "import pandas as pd\n",
    "import numpy as np\n",
    "%matplotlib inline\n",
    "import matplotlib.pyplot as plt"
   ]
  },
  {
   "cell_type": "code",
   "execution_count": 3,
   "metadata": {},
   "outputs": [],
   "source": [
    "train_dataset_fp = '../data/iris_training.csv'"
   ]
  },
  {
   "cell_type": "code",
   "execution_count": 4,
   "metadata": {},
   "outputs": [
    {
     "name": "stdout",
     "output_type": "stream",
     "text": [
      "120,4,setosa,versicolor,virginica\n",
      "6.4,2.8,5.6,2.2,2\n",
      "5.0,2.3,3.3,1.0,1\n",
      "4.9,2.5,4.5,1.7,2\n",
      "4.9,3.1,1.5,0.1,0\n"
     ]
    }
   ],
   "source": [
    "!head -n5 {train_dataset_fp}"
   ]
  },
  {
   "cell_type": "markdown",
   "metadata": {},
   "source": [
    "## Csv parser"
   ]
  },
  {
   "cell_type": "code",
   "execution_count": 11,
   "metadata": {},
   "outputs": [],
   "source": [
    "def parse_csv(line):\n",
    "    example_defaults = [[0.], [0.], [0.], [0.], [0]]\n",
    "    parsed_line = tf.decode_csv(line, example_defaults)\n",
    "    features = tf.reshape(parsed_line[:-1], shape=(4,)) #select all but last\n",
    "    label = tf.reshape(parsed_line[-1], shape=()) #select last\n",
    "    return features, label"
   ]
  },
  {
   "cell_type": "markdown",
   "metadata": {},
   "source": [
    "## Dataset API"
   ]
  },
  {
   "cell_type": "code",
   "execution_count": 6,
   "metadata": {},
   "outputs": [],
   "source": [
    "train_dataset = tf.data.TextLineDataset(train_dataset_fp)\n",
    "train_dataset = train_dataset.skip(1)\n",
    "train_dataset = train_dataset.map(parse_csv)\n",
    "train_dataset = train_dataset.shuffle(buffer_size=1000)\n",
    "train_dataset = train_dataset.batch(32)"
   ]
  },
  {
   "cell_type": "code",
   "execution_count": 7,
   "metadata": {},
   "outputs": [
    {
     "data": {
      "text/plain": [
       "<BatchDataset shapes: ((?, 4), (?,)), types: (tf.float32, tf.int32)>"
      ]
     },
     "execution_count": 7,
     "metadata": {},
     "output_type": "execute_result"
    }
   ],
   "source": [
    "train_dataset"
   ]
  },
  {
   "cell_type": "code",
   "execution_count": 8,
   "metadata": {},
   "outputs": [],
   "source": [
    "features, label = tfe.Iterator(train_dataset).next()"
   ]
  },
  {
   "cell_type": "code",
   "execution_count": 9,
   "metadata": {},
   "outputs": [
    {
     "data": {
      "text/plain": [
       "<tf.Tensor: id=41, shape=(32, 4), dtype=float32, numpy=\n",
       "array([[5.1, 3.8, 1.5, 0.3],\n",
       "       [6.4, 2.8, 5.6, 2.2],\n",
       "       [6.4, 3.2, 5.3, 2.3],\n",
       "       [4.6, 3.4, 1.4, 0.3],\n",
       "       [6.1, 2.6, 5.6, 1.4],\n",
       "       [6.1, 2.8, 4.7, 1.2],\n",
       "       [5.5, 2.6, 4.4, 1.2],\n",
       "       [6.8, 2.8, 4.8, 1.4],\n",
       "       [6.2, 2.8, 4.8, 1.8],\n",
       "       [6.3, 2.7, 4.9, 1.8],\n",
       "       [5.7, 2.9, 4.2, 1.3],\n",
       "       [7.2, 3.2, 6. , 1.8],\n",
       "       [4.6, 3.2, 1.4, 0.2],\n",
       "       [4.6, 3.6, 1. , 0.2],\n",
       "       [5.3, 3.7, 1.5, 0.2],\n",
       "       [6. , 2.2, 5. , 1.5],\n",
       "       [5.1, 3.8, 1.6, 0.2],\n",
       "       [5.9, 3. , 5.1, 1.8],\n",
       "       [5.6, 2.5, 3.9, 1.1],\n",
       "       [5. , 3.5, 1.6, 0.6],\n",
       "       [4.7, 3.2, 1.3, 0.2],\n",
       "       [6.2, 3.4, 5.4, 2.3],\n",
       "       [5. , 3. , 1.6, 0.2],\n",
       "       [6.1, 2.9, 4.7, 1.4],\n",
       "       [4.8, 3.1, 1.6, 0.2],\n",
       "       [4.9, 3. , 1.4, 0.2],\n",
       "       [6.5, 3. , 5.8, 2.2],\n",
       "       [6.8, 3. , 5.5, 2.1],\n",
       "       [5.4, 3.4, 1.5, 0.4],\n",
       "       [5.8, 2.7, 5.1, 1.9],\n",
       "       [6.2, 2.2, 4.5, 1.5],\n",
       "       [7.3, 2.9, 6.3, 1.8]], dtype=float32)>"
      ]
     },
     "execution_count": 9,
     "metadata": {},
     "output_type": "execute_result"
    }
   ],
   "source": [
    "features"
   ]
  },
  {
   "cell_type": "code",
   "execution_count": 10,
   "metadata": {},
   "outputs": [
    {
     "data": {
      "text/plain": [
       "<tf.Tensor: id=42, shape=(32,), dtype=int32, numpy=\n",
       "array([0, 2, 2, 0, 2, 1, 1, 1, 2, 2, 1, 2, 0, 0, 0, 2, 0, 2, 1, 0, 0, 2,\n",
       "       0, 1, 0, 0, 2, 2, 0, 2, 1, 2], dtype=int32)>"
      ]
     },
     "execution_count": 10,
     "metadata": {},
     "output_type": "execute_result"
    }
   ],
   "source": [
    "label"
   ]
  },
  {
   "cell_type": "markdown",
   "metadata": {},
   "source": [
    "## Model"
   ]
  },
  {
   "cell_type": "markdown",
   "metadata": {},
   "source": [
    "Note that the model is outputting the logits, not the softmax probabilities."
   ]
  },
  {
   "cell_type": "code",
   "execution_count": 12,
   "metadata": {},
   "outputs": [],
   "source": [
    "model = tf.keras.Sequential([\n",
    "  tf.keras.layers.Dense(10, activation=\"relu\", input_shape=(4,)),\n",
    "  tf.keras.layers.Dense(10, activation=\"relu\"),\n",
    "  tf.keras.layers.Dense(3)\n",
    "])"
   ]
  },
  {
   "cell_type": "markdown",
   "metadata": {},
   "source": [
    "Note that you don't have to specify activation or loss type"
   ]
  },
  {
   "cell_type": "code",
   "execution_count": 13,
   "metadata": {},
   "outputs": [
    {
     "data": {
      "text/plain": [
       "<tensorflow.python.keras.engine.sequential.Sequential at 0x7fc79c069518>"
      ]
     },
     "execution_count": 13,
     "metadata": {},
     "output_type": "execute_result"
    }
   ],
   "source": [
    "model"
   ]
  },
  {
   "cell_type": "markdown",
   "metadata": {},
   "source": [
    "model behaves like a function:"
   ]
  },
  {
   "cell_type": "code",
   "execution_count": 14,
   "metadata": {},
   "outputs": [
    {
     "data": {
      "text/plain": [
       "<tf.Tensor: id=128, shape=(32, 3), dtype=float32, numpy=\n",
       "array([[ 3.0123646,  2.3561714, -3.3068888],\n",
       "       [ 5.808002 ,  3.1174636, -6.1895933],\n",
       "       [ 5.606249 ,  2.9365122, -6.035207 ],\n",
       "       [ 2.7386317,  2.1279   , -2.9976966],\n",
       "       [ 5.619915 ,  3.228137 , -5.9591427],\n",
       "       [ 5.272281 ,  3.1810713, -5.5334644],\n",
       "       [ 4.788362 ,  2.8130772, -5.064041 ],\n",
       "       [ 5.825335 ,  3.6136658, -6.0083003],\n",
       "       [ 5.3939037,  3.0657065, -5.6880713],\n",
       "       [ 5.5266848,  3.1743886, -5.798862 ],\n",
       "       [ 4.793066 ,  2.8109875, -5.0795827],\n",
       "       [ 6.406487 ,  3.6900513, -6.770136 ],\n",
       "       [ 2.811469 ,  2.2192578, -3.0303304],\n",
       "       [ 2.5686262,  2.0665047, -2.8635051],\n",
       "       [ 3.2072587,  2.5532067, -3.4592278],\n",
       "       [ 5.465159 ,  3.2323945, -5.679449 ],\n",
       "       [ 3.0353706,  2.3967845, -3.343094 ],\n",
       "       [ 5.214745 ,  2.802091 , -5.6252623],\n",
       "       [ 4.7263927,  2.9247668, -4.9046917],\n",
       "       [ 3.0698924,  2.2897806, -3.2861788],\n",
       "       [ 2.8670576,  2.2783747, -3.0675442],\n",
       "       [ 5.4367337,  2.7335038, -5.944371 ],\n",
       "       [ 3.251632 ,  2.5655456, -3.3751297],\n",
       "       [ 5.250501 ,  3.0839097, -5.5426884],\n",
       "       [ 3.054947 ,  2.4013116, -3.2334487],\n",
       "       [ 3.1235194,  2.481529 , -3.2543793],\n",
       "       [ 5.8915286,  3.1297777, -6.31975  ],\n",
       "       [ 6.013851 ,  3.3576782, -6.357766 ],\n",
       "       [ 3.3989682,  2.6456628, -3.5491502],\n",
       "       [ 5.2249947,  2.8013446, -5.598989 ],\n",
       "       [ 5.4524307,  3.3488233, -5.5798125],\n",
       "       [ 6.6574807,  3.8757427, -6.9842353]], dtype=float32)>"
      ]
     },
     "execution_count": 14,
     "metadata": {},
     "output_type": "execute_result"
    }
   ],
   "source": [
    "model(features)"
   ]
  },
  {
   "cell_type": "markdown",
   "metadata": {},
   "source": [
    "In eager mode we can access the values of the weights directly:"
   ]
  },
  {
   "cell_type": "code",
   "execution_count": 15,
   "metadata": {},
   "outputs": [
    {
     "name": "stdout",
     "output_type": "stream",
     "text": [
      "Weight shape:  (4, 10)\n",
      "Weight tensor:  <tf.Variable 'dense/kernel:0' shape=(4, 10) dtype=float32, numpy=\n",
      "array([[ 0.4979776 ,  0.6055378 , -0.5459494 ,  0.64056766,  0.5474938 ,\n",
      "         0.4406649 ,  0.07789314, -0.33942613, -0.32166046,  0.36686277],\n",
      "       [-0.01747209, -0.3966856 , -0.08106595,  0.36801028, -0.05066019,\n",
      "        -0.4219396 ,  0.4178089 ,  0.1829161 ,  0.41923738, -0.07797509],\n",
      "       [ 0.55472815,  0.34021634, -0.07331669, -0.0847286 , -0.41407806,\n",
      "         0.26072747,  0.15397936, -0.3148976 , -0.6326421 , -0.21772492],\n",
      "       [ 0.09174132,  0.3369975 ,  0.24916708, -0.2105043 ,  0.06139123,\n",
      "        -0.45438147,  0.49432874,  0.29681647,  0.58725977,  0.20182914]],\n",
      "      dtype=float32)>\n",
      "\n",
      "Weight shape:  (10,)\n",
      "Weight tensor:  <tf.Variable 'dense/bias:0' shape=(10,) dtype=float32, numpy=array([0., 0., 0., 0., 0., 0., 0., 0., 0., 0.], dtype=float32)>\n",
      "\n",
      "Weight shape:  (10, 10)\n",
      "Weight tensor:  <tf.Variable 'dense_1/kernel:0' shape=(10, 10) dtype=float32, numpy=\n",
      "array([[-0.07380125, -0.08475438,  0.03199935,  0.4953053 ,  0.32771075,\n",
      "        -0.30099952, -0.52095115, -0.28672647, -0.4438587 ,  0.50185835],\n",
      "       [ 0.1799854 ,  0.22569025,  0.50693953, -0.4510662 ,  0.5135045 ,\n",
      "        -0.37989658,  0.19360918, -0.06237775, -0.15798482, -0.5134754 ],\n",
      "       [-0.17073068,  0.3110913 ,  0.36051965,  0.17802787,  0.24331653,\n",
      "        -0.14061883,  0.18387884, -0.07544783, -0.30948615, -0.11287373],\n",
      "       [-0.48352993,  0.37935764, -0.26872867,  0.09932309,  0.45911705,\n",
      "        -0.4756174 , -0.06498411,  0.34489006,  0.45306873, -0.43949503],\n",
      "       [-0.20964593, -0.28939974, -0.4545927 , -0.37999228,  0.20439291,\n",
      "         0.4725026 , -0.5294345 , -0.4733128 , -0.13725933,  0.18758702],\n",
      "       [-0.38613313,  0.25490773, -0.22419739,  0.17290705,  0.478989  ,\n",
      "         0.43304402,  0.02692986,  0.21020144,  0.33273602, -0.09871691],\n",
      "       [-0.07255962,  0.23650825,  0.24592334,  0.2030257 , -0.52865934,\n",
      "         0.4336964 , -0.04688042, -0.05141088,  0.34004867,  0.26412678],\n",
      "       [-0.49288547, -0.18785965, -0.0085097 ,  0.39105785,  0.00828421,\n",
      "        -0.46732497, -0.4893173 , -0.43613735,  0.43478996, -0.49955183],\n",
      "       [ 0.46059155,  0.37169385,  0.06432009, -0.48862833, -0.0731414 ,\n",
      "        -0.4746132 , -0.1844768 , -0.4295543 , -0.30566126,  0.22560227],\n",
      "       [-0.00589025,  0.4799106 ,  0.18133032,  0.54427946,  0.27234477,\n",
      "         0.08080047,  0.22440779,  0.38818103, -0.3070529 ,  0.48169887]],\n",
      "      dtype=float32)>\n",
      "\n",
      "Weight shape:  (10,)\n",
      "Weight tensor:  <tf.Variable 'dense_1/bias:0' shape=(10,) dtype=float32, numpy=array([0., 0., 0., 0., 0., 0., 0., 0., 0., 0.], dtype=float32)>\n",
      "\n",
      "Weight shape:  (10, 3)\n",
      "Weight tensor:  <tf.Variable 'dense_2/kernel:0' shape=(10, 3) dtype=float32, numpy=\n",
      "array([[ 0.00709897,  0.64575076,  0.1495955 ],\n",
      "       [ 0.163746  , -0.15432692, -0.5695493 ],\n",
      "       [ 0.37505138, -0.18578559, -0.49325007],\n",
      "       [ 0.206514  , -0.0708406 , -0.6216928 ],\n",
      "       [ 0.59420204,  0.6585947 , -0.22613207],\n",
      "       [-0.4566643 , -0.37102938,  0.6688156 ],\n",
      "       [ 0.4023912 , -0.29312932,  0.25383615],\n",
      "       [-0.23040119,  0.23779482, -0.09084898],\n",
      "       [-0.45852277,  0.18054038,  0.35801208],\n",
      "       [ 0.10834265, -0.08490896,  0.3998388 ]], dtype=float32)>\n",
      "\n",
      "Weight shape:  (3,)\n",
      "Weight tensor:  <tf.Variable 'dense_2/bias:0' shape=(3,) dtype=float32, numpy=array([0., 0., 0.], dtype=float32)>\n",
      "\n"
     ]
    }
   ],
   "source": [
    "for i, v in enumerate(model.variables):\n",
    "    print(\"Weight shape: \", v.shape)\n",
    "    print(\"Weight tensor: \", v)\n",
    "    print()\n"
   ]
  },
  {
   "cell_type": "markdown",
   "metadata": {},
   "source": [
    "## Loss\n",
    "\n",
    "Loss is sparse categorical cross entropy"
   ]
  },
  {
   "cell_type": "code",
   "execution_count": 18,
   "metadata": {},
   "outputs": [],
   "source": [
    "def loss(model, x, y):\n",
    "    y_ = model(x)\n",
    "    return tf.losses.sparse_softmax_cross_entropy(labels=y, logits=y_)"
   ]
  },
  {
   "cell_type": "code",
   "execution_count": 19,
   "metadata": {},
   "outputs": [
    {
     "data": {
      "text/plain": [
       "<tf.Tensor: id=236, shape=(), dtype=float32, numpy=5.4524317>"
      ]
     },
     "execution_count": 19,
     "metadata": {},
     "output_type": "execute_result"
    }
   ],
   "source": [
    "loss(model, features, label)"
   ]
  },
  {
   "cell_type": "markdown",
   "metadata": {},
   "source": [
    "## Gradients\n",
    "\n",
    "In eager mode we can evaluate the gradients"
   ]
  },
  {
   "cell_type": "code",
   "execution_count": 20,
   "metadata": {},
   "outputs": [],
   "source": [
    "def grad(model, inputs, targets):\n",
    "    with tfe.GradientTape() as tape:\n",
    "        loss_value = loss(model, inputs, targets)\n",
    "    return tape.gradient(loss_value, model.variables)"
   ]
  },
  {
   "cell_type": "code",
   "execution_count": 21,
   "metadata": {},
   "outputs": [],
   "source": [
    "grads = grad(model, features, label)"
   ]
  },
  {
   "cell_type": "code",
   "execution_count": 22,
   "metadata": {},
   "outputs": [
    {
     "name": "stdout",
     "output_type": "stream",
     "text": [
      "Gradient shape:  (4, 10)\n",
      "Gradient tensor:  tf.Tensor(\n",
      "[[ 1.1132387   2.2100337   0.          1.7856534  -2.6007211   1.5462356\n",
      "   0.449391    0.          0.          2.929651  ]\n",
      " [ 0.40985906  1.0039303   0.          0.8687257  -1.1906505   0.73269916\n",
      "   0.1975142   0.          0.          1.2593131 ]\n",
      " [ 1.1287702   1.8443506   0.          1.3835783  -2.1054292   1.2354182\n",
      "   0.34407058  0.          0.          2.5607753 ]\n",
      " [ 0.40741923  0.6457597   0.          0.48263142 -0.7177217   0.43215773\n",
      "   0.10335439  0.          0.          0.8925283 ]], shape=(4, 10), dtype=float32)\n",
      "\n",
      "Gradient shape:  (10,)\n",
      "Gradient tensor:  tf.Tensor(\n",
      "[ 0.15864044  0.3482257   0.          0.29016012 -0.41567868  0.24815102\n",
      "  0.07384653  0.          0.          0.45219582], shape=(10,), dtype=float32)\n",
      "\n",
      "Gradient shape:  (10, 10)\n",
      "Gradient tensor:  tf.Tensor(\n",
      "[[ 0.          2.0292225   2.723246    2.253271    2.0720143   0.\n",
      "   0.          0.1940632   0.26590407 -0.6492338 ]\n",
      " [ 0.          1.6919359   2.2448845   1.8750348   1.7085794   0.\n",
      "   0.          0.13351767  0.18293722 -0.527521  ]\n",
      " [ 0.          0.          0.          0.          0.          0.\n",
      "   0.          0.          0.          0.        ]\n",
      " [ 0.          1.3215675   1.8970405   1.4813124   1.4204047   0.\n",
      "   0.          0.25479493  0.3491333  -0.47288713]\n",
      " [ 0.          0.35957122  0.5633067   0.40759343  0.4098577   0.\n",
      "   0.          0.11702148  0.16034742 -0.1448272 ]\n",
      " [ 0.          0.70532495  0.9465523   0.77916527  0.6994907   0.\n",
      "   0.          0.05991738  0.08208931 -0.20970449]\n",
      " [ 0.          1.0956217   1.4877322   1.2223381   1.1482211   0.\n",
      "   0.          0.1299584   0.17807858 -0.37260658]\n",
      " [ 0.          0.          0.          0.          0.          0.\n",
      "   0.          0.          0.          0.        ]\n",
      " [ 0.          0.          0.          0.          0.          0.\n",
      "   0.          0.          0.          0.        ]\n",
      " [ 0.          0.40935096  0.58588284  0.45864797  0.43902454  0.\n",
      "   0.          0.07715373  0.10571759 -0.14573243]], shape=(10, 10), dtype=float32)\n",
      "\n",
      "Gradient shape:  (10,)\n",
      "Gradient tensor:  tf.Tensor(\n",
      "[ 0.          0.30861846  0.44455552  0.34570467  0.33058006  0.\n",
      "  0.          0.06037765  0.08273622 -0.10950739], shape=(10,), dtype=float32)\n",
      "\n",
      "Gradient shape:  (10, 3)\n",
      "Gradient tensor:  tf.Tensor(\n",
      "[[ 0.0000000e+00  0.0000000e+00  0.0000000e+00]\n",
      " [ 1.8281316e+00 -2.3610742e-01 -1.5920240e+00]\n",
      " [ 8.9256173e-01 -1.8155728e-01 -7.1100456e-01]\n",
      " [ 1.1838907e+00 -1.5511610e-01 -1.0287747e+00]\n",
      " [ 3.1004937e+00 -4.5613572e-01 -2.6443574e+00]\n",
      " [ 0.0000000e+00  0.0000000e+00  0.0000000e+00]\n",
      " [ 0.0000000e+00  0.0000000e+00  0.0000000e+00]\n",
      " [-9.3823615e-03  9.3432926e-03  3.9067894e-05]\n",
      " [-6.9797687e-02  6.9513164e-02  2.8451998e-04]\n",
      " [ 7.0584081e-02  3.3597555e-03 -7.3943846e-02]], shape=(10, 3), dtype=float32)\n",
      "\n",
      "Gradient shape:  (3,)\n",
      "Gradient tensor:  tf.Tensor([ 0.44063273 -0.03491021 -0.40572256], shape=(3,), dtype=float32)\n",
      "\n"
     ]
    }
   ],
   "source": [
    "for i, g in enumerate(grads):\n",
    "    print(\"Gradient shape: \", g.shape)\n",
    "    print(\"Gradient tensor: \", g)\n",
    "    print()\n"
   ]
  },
  {
   "cell_type": "markdown",
   "metadata": {},
   "source": [
    "## Optimizer\n",
    "\n",
    "Let's use simple gradient descent"
   ]
  },
  {
   "cell_type": "code",
   "execution_count": 23,
   "metadata": {},
   "outputs": [],
   "source": [
    "optimizer = tf.train.GradientDescentOptimizer(learning_rate=0.01)"
   ]
  },
  {
   "cell_type": "markdown",
   "metadata": {},
   "source": [
    "## Training Loop"
   ]
  },
  {
   "cell_type": "code",
   "execution_count": 24,
   "metadata": {},
   "outputs": [
    {
     "name": "stdout",
     "output_type": "stream",
     "text": [
      "Epoch 000: Loss: 2.926, Accuracy: 13.333%\n",
      "Epoch 050: Loss: 0.419, Accuracy: 90.833%\n",
      "Epoch 100: Loss: 0.232, Accuracy: 97.500%\n",
      "Epoch 150: Loss: 0.145, Accuracy: 97.500%\n",
      "Epoch 200: Loss: 0.109, Accuracy: 97.500%\n"
     ]
    }
   ],
   "source": [
    "train_loss_results = []\n",
    "train_accuracy_results = []\n",
    "\n",
    "num_epochs = 201\n",
    "\n",
    "# Loop over epochs\n",
    "for epoch in range(num_epochs):\n",
    "    \n",
    "    # accumulators for mean loss and accuracy\n",
    "    epoch_loss_avg = tfe.metrics.Mean()\n",
    "    epoch_accuracy = tfe.metrics.Accuracy()\n",
    "\n",
    "    # loop on dataset, for each batch:\n",
    "    for x, y in tfe.Iterator(train_dataset):\n",
    "        # Calculate gradients\n",
    "        grads = grad(model, x, y)\n",
    "        \n",
    "        # Apply gradients to the weights\n",
    "        optimizer.apply_gradients(zip(grads, model.variables),\n",
    "                                  global_step=tf.train.get_or_create_global_step())\n",
    "\n",
    "        # accumulate loss\n",
    "        epoch_loss_avg(loss(model, x, y))\n",
    "        \n",
    "        # calculate predictions\n",
    "        y_pred = tf.argmax(model(x), axis=1, output_type=tf.int32)\n",
    "        # acccumulate accuracy\n",
    "        epoch_accuracy(y_pred, y)\n",
    "\n",
    "    # end epoch\n",
    "    train_loss_results.append(epoch_loss_avg.result())\n",
    "    train_accuracy_results.append(epoch_accuracy.result())\n",
    "\n",
    "    if epoch % 50 == 0:\n",
    "        print(\"Epoch {:03d}: Loss: {:.3f}, Accuracy: {:.3%}\".format(epoch,\n",
    "                                                                    epoch_loss_avg.result(),\n",
    "                                                                    epoch_accuracy.result()))"
   ]
  },
  {
   "cell_type": "markdown",
   "metadata": {},
   "source": [
    "## Plot Metrics"
   ]
  },
  {
   "cell_type": "code",
   "execution_count": 25,
   "metadata": {},
   "outputs": [
    {
     "data": {
      "image/png": "[encoded data removed]",
      "text/plain": [
       "<Figure size 864x576 with 2 Axes>"
      ]
     },
     "metadata": {
      "needs_background": "light"
     },
     "output_type": "display_data"
    }
   ],
   "source": [
    "fig, axes = plt.subplots(2, sharex=True, figsize=(12, 8))\n",
    "fig.suptitle('Training Metrics')\n",
    "\n",
    "axes[0].set_ylabel(\"Loss\", fontsize=14)\n",
    "axes[0].plot(train_loss_results)\n",
    "\n",
    "axes[1].set_ylabel(\"Accuracy\", fontsize=14)\n",
    "axes[1].set_xlabel(\"Epoch\", fontsize=14)\n",
    "axes[1].plot(train_accuracy_results)\n",
    "\n",
    "plt.show()"
   ]
  },
  {
   "cell_type": "markdown",
   "metadata": {},
   "source": [
    "## Test"
   ]
  },
  {
   "cell_type": "code",
   "execution_count": 26,
   "metadata": {},
   "outputs": [],
   "source": [
    "test_fp = '../data/iris_test.csv'"
   ]
  },
  {
   "cell_type": "code",
   "execution_count": 27,
   "metadata": {},
   "outputs": [],
   "source": [
    "test_dataset = tf.data.TextLineDataset(test_fp)\n",
    "test_dataset = test_dataset.skip(1)             # skip header row\n",
    "test_dataset = test_dataset.map(parse_csv)      # parse each row with the funcition created earlier\n",
    "test_dataset = test_dataset.shuffle(1000)       # randomize\n",
    "test_dataset = test_dataset.batch(32)           # use the same batch size as the training set"
   ]
  },
  {
   "cell_type": "code",
   "execution_count": 28,
   "metadata": {},
   "outputs": [
    {
     "name": "stdout",
     "output_type": "stream",
     "text": [
      "Test set accuracy: 93.333%\n"
     ]
    }
   ],
   "source": [
    "test_accuracy = tfe.metrics.Accuracy()\n",
    "\n",
    "for (x, y) in tfe.Iterator(test_dataset):\n",
    "    prediction = tf.argmax(model(x), axis=1, output_type=tf.int32)\n",
    "    test_accuracy(prediction, y)\n",
    "\n",
    "print(\"Test set accuracy: {:.3%}\".format(test_accuracy.result()))"
   ]
  },
  {
   "cell_type": "code",
   "execution_count": 29,
   "metadata": {},
   "outputs": [
    {
     "name": "stdout",
     "output_type": "stream",
     "text": [
      "Example 0 prediction: Iris setosa\n",
      "Example 1 prediction: Iris versicolor\n",
      "Example 2 prediction: Iris virginica\n"
     ]
    }
   ],
   "source": [
    "class_ids = [\"Iris setosa\", \"Iris versicolor\", \"Iris virginica\"]\n",
    "\n",
    "predict_dataset = tf.convert_to_tensor([\n",
    "    [5.1, 3.3, 1.7, 0.5,],\n",
    "    [5.9, 3.0, 4.2, 1.5,],\n",
    "    [6.9, 3.1, 5.4, 2.1]\n",
    "])\n",
    "\n",
    "predictions = model(predict_dataset)\n",
    "\n",
    "for i, logits in enumerate(predictions):\n",
    "    class_idx = tf.argmax(logits).numpy()\n",
    "    name = class_ids[class_idx]\n",
    "    print(\"Example {} prediction: {}\".format(i, name))"
   ]
  },
  {
   "cell_type": "code",
   "execution_count": null,
   "metadata": {
    "collapsed": true
   },
   "outputs": [],
   "source": []
  }
 ],
 "metadata": {
  "kernelspec": {
   "display_name": "Python 3",
   "language": "python",
   "name": "python3"
  },
  "language_info": {
   "codemirror_mode": {
    "name": "ipython",
    "version": 3
   },
   "file_extension": ".py",
   "mimetype": "text/x-python",
   "name": "python",
   "nbconvert_exporter": "python",
   "pygments_lexer": "ipython3",
   "version": "3.6.6"
  }
 },
 "nbformat": 4,
 "nbformat_minor": 2
}
