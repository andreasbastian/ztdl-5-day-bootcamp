{
 "cells": [
  {
   "cell_type": "markdown",
   "metadata": {},
   "source": [
    "# Tensorflow Estimators"
   ]
  },
  {
   "cell_type": "code",
   "execution_count": 1,
   "metadata": {},
   "outputs": [],
   "source": [
    "import tensorflow as tf\n",
    "import pandas as pd"
   ]
  },
  {
   "cell_type": "code",
   "execution_count": 2,
   "metadata": {},
   "outputs": [],
   "source": [
    "df = pd.read_csv('../data/iris.csv')"
   ]
  },
  {
   "cell_type": "code",
   "execution_count": 3,
   "metadata": {},
   "outputs": [
    {
     "data": {
      "text/html": [
       "<div>\n",
       "<style scoped>\n",
       "    .dataframe tbody tr th:only-of-type {\n",
       "        vertical-align: middle;\n",
       "    }\n",
       "\n",
       "    .dataframe tbody tr th {\n",
       "        vertical-align: top;\n",
       "    }\n",
       "\n",
       "    .dataframe thead th {\n",
       "        text-align: right;\n",
       "    }\n",
       "</style>\n",
       "<table border=\"1\" class=\"dataframe\">\n",
       "  <thead>\n",
       "    <tr style=\"text-align: right;\">\n",
       "      <th></th>\n",
       "      <th>sepal_length</th>\n",
       "      <th>sepal_width</th>\n",
       "      <th>petal_length</th>\n",
       "      <th>petal_width</th>\n",
       "      <th>species</th>\n",
       "    </tr>\n",
       "  </thead>\n",
       "  <tbody>\n",
       "    <tr>\n",
       "      <th>0</th>\n",
       "      <td>5.1</td>\n",
       "      <td>3.5</td>\n",
       "      <td>1.4</td>\n",
       "      <td>0.2</td>\n",
       "      <td>setosa</td>\n",
       "    </tr>\n",
       "    <tr>\n",
       "      <th>1</th>\n",
       "      <td>4.9</td>\n",
       "      <td>3.0</td>\n",
       "      <td>1.4</td>\n",
       "      <td>0.2</td>\n",
       "      <td>setosa</td>\n",
       "    </tr>\n",
       "    <tr>\n",
       "      <th>2</th>\n",
       "      <td>4.7</td>\n",
       "      <td>3.2</td>\n",
       "      <td>1.3</td>\n",
       "      <td>0.2</td>\n",
       "      <td>setosa</td>\n",
       "    </tr>\n",
       "    <tr>\n",
       "      <th>3</th>\n",
       "      <td>4.6</td>\n",
       "      <td>3.1</td>\n",
       "      <td>1.5</td>\n",
       "      <td>0.2</td>\n",
       "      <td>setosa</td>\n",
       "    </tr>\n",
       "    <tr>\n",
       "      <th>4</th>\n",
       "      <td>5.0</td>\n",
       "      <td>3.6</td>\n",
       "      <td>1.4</td>\n",
       "      <td>0.2</td>\n",
       "      <td>setosa</td>\n",
       "    </tr>\n",
       "  </tbody>\n",
       "</table>\n",
       "</div>"
      ],
      "text/plain": [
       "   sepal_length  sepal_width  petal_length  petal_width species\n",
       "0           5.1          3.5           1.4          0.2  setosa\n",
       "1           4.9          3.0           1.4          0.2  setosa\n",
       "2           4.7          3.2           1.3          0.2  setosa\n",
       "3           4.6          3.1           1.5          0.2  setosa\n",
       "4           5.0          3.6           1.4          0.2  setosa"
      ]
     },
     "execution_count": 3,
     "metadata": {},
     "output_type": "execute_result"
    }
   ],
   "source": [
    "df.head()"
   ]
  },
  {
   "cell_type": "code",
   "execution_count": 4,
   "metadata": {},
   "outputs": [],
   "source": [
    "X = df.drop('species', axis='columns')\n",
    "y = df['species']\n",
    "\n",
    "column_names = df.columns[:-1]"
   ]
  },
  {
   "cell_type": "code",
   "execution_count": 5,
   "metadata": {},
   "outputs": [],
   "source": [
    "from sklearn.model_selection import train_test_split"
   ]
  },
  {
   "cell_type": "code",
   "execution_count": 6,
   "metadata": {},
   "outputs": [],
   "source": [
    "X_train, X_test, y_train, y_test = train_test_split(X, y, test_size=0.3, random_state=0)"
   ]
  },
  {
   "cell_type": "code",
   "execution_count": 7,
   "metadata": {},
   "outputs": [
    {
     "data": {
      "text/plain": [
       "60     versicolor\n",
       "116     virginica\n",
       "144     virginica\n",
       "119     virginica\n",
       "108     virginica\n",
       "Name: species, dtype: object"
      ]
     },
     "execution_count": 7,
     "metadata": {},
     "output_type": "execute_result"
    }
   ],
   "source": [
    "y_train.head()"
   ]
  },
  {
   "cell_type": "code",
   "execution_count": 8,
   "metadata": {},
   "outputs": [],
   "source": [
    "labels = ['setosa', 'versicolor', 'virginica']"
   ]
  },
  {
   "cell_type": "code",
   "execution_count": 9,
   "metadata": {},
   "outputs": [],
   "source": [
    "feature_columns = [\n",
    "    tf.feature_column.numeric_column(key=key)\n",
    "    for key in X_train.columns\n",
    "]"
   ]
  },
  {
   "cell_type": "code",
   "execution_count": 10,
   "metadata": {},
   "outputs": [
    {
     "data": {
      "text/plain": [
       "[_NumericColumn(key='sepal_length', shape=(1,), default_value=None, dtype=tf.float32, normalizer_fn=None),\n",
       " _NumericColumn(key='sepal_width', shape=(1,), default_value=None, dtype=tf.float32, normalizer_fn=None),\n",
       " _NumericColumn(key='petal_length', shape=(1,), default_value=None, dtype=tf.float32, normalizer_fn=None),\n",
       " _NumericColumn(key='petal_width', shape=(1,), default_value=None, dtype=tf.float32, normalizer_fn=None)]"
      ]
     },
     "execution_count": 10,
     "metadata": {},
     "output_type": "execute_result"
    }
   ],
   "source": [
    "feature_columns"
   ]
  },
  {
   "cell_type": "markdown",
   "metadata": {},
   "source": [
    "## Canned Estimators"
   ]
  },
  {
   "cell_type": "code",
   "execution_count": 11,
   "metadata": {},
   "outputs": [],
   "source": [
    "rm -rf ./models/iris/"
   ]
  },
  {
   "cell_type": "code",
   "execution_count": 12,
   "metadata": {},
   "outputs": [
    {
     "name": "stdout",
     "output_type": "stream",
     "text": [
      "INFO:tensorflow:Using default config.\n",
      "INFO:tensorflow:Using config: {'_model_dir': './models/iris/DNN/', '_tf_random_seed': None, '_save_summary_steps': 100, '_save_checkpoints_steps': None, '_save_checkpoints_secs': 600, '_session_config': None, '_keep_checkpoint_max': 5, '_keep_checkpoint_every_n_hours': 10000, '_log_step_count_steps': 100, '_train_distribute': None, '_device_fn': None, '_service': None, '_cluster_spec': <tensorflow.python.training.server_lib.ClusterSpec object at 0x7f096fd44470>, '_task_type': 'worker', '_task_id': 0, '_global_id_in_cluster': 0, '_master': '', '_evaluation_master': '', '_is_chief': True, '_num_ps_replicas': 0, '_num_worker_replicas': 1}\n"
     ]
    }
   ],
   "source": [
    "model = tf.estimator.DNNClassifier(\n",
    "    hidden_units=[10, 10], \n",
    "    feature_columns=feature_columns,\n",
    "    model_dir='./models/iris/DNN/',\n",
    "    n_classes=3,\n",
    "    label_vocabulary=labels,\n",
    "    optimizer='Adam')"
   ]
  },
  {
   "cell_type": "code",
   "execution_count": 13,
   "metadata": {},
   "outputs": [],
   "source": [
    "batch_size=32\n",
    "train_steps=3000"
   ]
  },
  {
   "cell_type": "markdown",
   "metadata": {},
   "source": [
    "### Input function"
   ]
  },
  {
   "cell_type": "code",
   "execution_count": 14,
   "metadata": {},
   "outputs": [],
   "source": [
    "def input_fn(features, labels, batch_size, shuffle=True, repeat=None):\n",
    "    feature_dict = dict(features)\n",
    "\n",
    "    if labels is None:\n",
    "        inputs = feature_dict\n",
    "    else:\n",
    "        inputs = (feature_dict, labels)\n",
    "        \n",
    "    dataset = tf.data.Dataset.from_tensor_slices(inputs)\n",
    "    \n",
    "    if shuffle:\n",
    "        dataset = dataset.shuffle(1000)\n",
    "    \n",
    "    dataset = dataset.repeat(repeat)\n",
    "\n",
    "    return dataset.batch(batch_size)"
   ]
  },
  {
   "cell_type": "code",
   "execution_count": 15,
   "metadata": {},
   "outputs": [],
   "source": [
    "def train_input_fn():\n",
    "    return input_fn(X_train, y_train, batch_size)"
   ]
  },
  {
   "cell_type": "markdown",
   "metadata": {},
   "source": [
    "### Model Training"
   ]
  },
  {
   "cell_type": "code",
   "execution_count": 16,
   "metadata": {},
   "outputs": [
    {
     "name": "stdout",
     "output_type": "stream",
     "text": [
      "INFO:tensorflow:Calling model_fn.\n",
      "INFO:tensorflow:Done calling model_fn.\n",
      "INFO:tensorflow:Create CheckpointSaverHook.\n",
      "INFO:tensorflow:Graph was finalized.\n",
      "INFO:tensorflow:Running local_init_op.\n",
      "INFO:tensorflow:Done running local_init_op.\n",
      "INFO:tensorflow:Saving checkpoints for 0 into ./models/iris/DNN/model.ckpt.\n",
      "INFO:tensorflow:loss = 61.159294, step = 0\n",
      "INFO:tensorflow:global_step/sec: 165.945\n",
      "INFO:tensorflow:loss = 0.17256603, step = 100 (0.606 sec)\n",
      "INFO:tensorflow:global_step/sec: 198.571\n",
      "INFO:tensorflow:loss = 2.1592002, step = 200 (0.502 sec)\n",
      "INFO:tensorflow:global_step/sec: 193.467\n",
      "INFO:tensorflow:loss = 5.5318046, step = 300 (0.518 sec)\n",
      "INFO:tensorflow:global_step/sec: 190.367\n",
      "INFO:tensorflow:loss = 0.16790543, step = 400 (0.524 sec)\n",
      "INFO:tensorflow:global_step/sec: 202.818\n",
      "INFO:tensorflow:loss = 1.4711847, step = 500 (0.492 sec)\n",
      "INFO:tensorflow:global_step/sec: 204.259\n",
      "INFO:tensorflow:loss = 4.0948234, step = 600 (0.490 sec)\n",
      "INFO:tensorflow:global_step/sec: 199.752\n",
      "INFO:tensorflow:loss = 3.9253707, step = 700 (0.502 sec)\n",
      "INFO:tensorflow:global_step/sec: 202.319\n",
      "INFO:tensorflow:loss = 1.8946795, step = 800 (0.494 sec)\n",
      "INFO:tensorflow:global_step/sec: 184.793\n",
      "INFO:tensorflow:loss = 2.2050557, step = 900 (0.547 sec)\n",
      "INFO:tensorflow:global_step/sec: 196.936\n",
      "INFO:tensorflow:loss = 4.2587337, step = 1000 (0.503 sec)\n",
      "INFO:tensorflow:global_step/sec: 202.878\n",
      "INFO:tensorflow:loss = 1.9169799, step = 1100 (0.490 sec)\n",
      "INFO:tensorflow:global_step/sec: 197.273\n",
      "INFO:tensorflow:loss = 1.0645443, step = 1200 (0.510 sec)\n",
      "INFO:tensorflow:global_step/sec: 197.685\n",
      "INFO:tensorflow:loss = 0.8522792, step = 1300 (0.504 sec)\n",
      "INFO:tensorflow:global_step/sec: 202.351\n",
      "INFO:tensorflow:loss = 2.5127943, step = 1400 (0.494 sec)\n",
      "INFO:tensorflow:global_step/sec: 192.359\n",
      "INFO:tensorflow:loss = 2.1041822, step = 1500 (0.519 sec)\n",
      "INFO:tensorflow:global_step/sec: 198.372\n",
      "INFO:tensorflow:loss = 0.045191567, step = 1600 (0.504 sec)\n",
      "INFO:tensorflow:global_step/sec: 200.043\n",
      "INFO:tensorflow:loss = 0.15018444, step = 1700 (0.500 sec)\n",
      "INFO:tensorflow:global_step/sec: 202.953\n",
      "INFO:tensorflow:loss = 0.878252, step = 1800 (0.492 sec)\n",
      "INFO:tensorflow:global_step/sec: 192.15\n",
      "INFO:tensorflow:loss = 0.17056988, step = 1900 (0.521 sec)\n",
      "INFO:tensorflow:global_step/sec: 208.28\n",
      "INFO:tensorflow:loss = 2.2091439, step = 2000 (0.481 sec)\n",
      "INFO:tensorflow:global_step/sec: 194.674\n",
      "INFO:tensorflow:loss = 0.2023454, step = 2100 (0.513 sec)\n",
      "INFO:tensorflow:global_step/sec: 184.815\n",
      "INFO:tensorflow:loss = 1.1281614, step = 2200 (0.541 sec)\n",
      "INFO:tensorflow:global_step/sec: 191.213\n",
      "INFO:tensorflow:loss = 0.38931257, step = 2300 (0.525 sec)\n",
      "INFO:tensorflow:global_step/sec: 205.734\n",
      "INFO:tensorflow:loss = 1.3099954, step = 2400 (0.484 sec)\n",
      "INFO:tensorflow:global_step/sec: 196.06\n",
      "INFO:tensorflow:loss = 1.0817038, step = 2500 (0.513 sec)\n",
      "INFO:tensorflow:global_step/sec: 209.53\n",
      "INFO:tensorflow:loss = 1.9268364, step = 2600 (0.474 sec)\n",
      "INFO:tensorflow:global_step/sec: 208.714\n",
      "INFO:tensorflow:loss = 3.2801437, step = 2700 (0.479 sec)\n",
      "INFO:tensorflow:global_step/sec: 205.531\n",
      "INFO:tensorflow:loss = 1.3329775, step = 2800 (0.487 sec)\n",
      "INFO:tensorflow:global_step/sec: 244.73\n",
      "INFO:tensorflow:loss = 0.17628016, step = 2900 (0.409 sec)\n",
      "INFO:tensorflow:Saving checkpoints for 3000 into ./models/iris/DNN/model.ckpt.\n",
      "INFO:tensorflow:Loss for final step: 0.043824017.\n"
     ]
    },
    {
     "data": {
      "text/plain": [
       "<tensorflow.python.estimator.canned.dnn.DNNClassifier at 0x7f096b7aaf60>"
      ]
     },
     "execution_count": 16,
     "metadata": {},
     "output_type": "execute_result"
    }
   ],
   "source": [
    "model.train(\n",
    "    input_fn=train_input_fn,\n",
    "    steps=3000)"
   ]
  },
  {
   "cell_type": "markdown",
   "metadata": {},
   "source": [
    "### Evaluate model on train and test data"
   ]
  },
  {
   "cell_type": "code",
   "execution_count": 17,
   "metadata": {},
   "outputs": [
    {
     "name": "stdout",
     "output_type": "stream",
     "text": [
      "INFO:tensorflow:Calling model_fn.\n",
      "INFO:tensorflow:Done calling model_fn.\n",
      "INFO:tensorflow:Starting evaluation at 2018-09-21-17:12:46\n",
      "INFO:tensorflow:Graph was finalized.\n",
      "INFO:tensorflow:Restoring parameters from ./models/iris/DNN/model.ckpt-3000\n",
      "INFO:tensorflow:Running local_init_op.\n",
      "INFO:tensorflow:Done running local_init_op.\n",
      "INFO:tensorflow:Finished evaluation at 2018-09-21-17:12:46\n",
      "INFO:tensorflow:Saving dict for global step 3000: accuracy = 0.96190476, average_loss = 0.07840017, global_step = 3000, loss = 2.0580046\n",
      "INFO:tensorflow:Saving 'checkpoint_path' summary for global step 3000: ./models/iris/DNN/model.ckpt-3000\n",
      "INFO:tensorflow:Calling model_fn.\n",
      "INFO:tensorflow:Done calling model_fn.\n",
      "INFO:tensorflow:Starting evaluation at 2018-09-21-17:12:47\n",
      "INFO:tensorflow:Graph was finalized.\n",
      "INFO:tensorflow:Restoring parameters from ./models/iris/DNN/model.ckpt-3000\n",
      "INFO:tensorflow:Running local_init_op.\n",
      "INFO:tensorflow:Done running local_init_op.\n",
      "INFO:tensorflow:Finished evaluation at 2018-09-21-17:12:47\n",
      "INFO:tensorflow:Saving dict for global step 3000: accuracy = 0.93333334, average_loss = 0.14648946, global_step = 3000, loss = 3.2960129\n",
      "INFO:tensorflow:Saving 'checkpoint_path' summary for global step 3000: ./models/iris/DNN/model.ckpt-3000\n"
     ]
    }
   ],
   "source": [
    "train_eval_result = model.evaluate(\n",
    "    input_fn=lambda:input_fn(X_train, y_train,\n",
    "                             batch_size,\n",
    "                             shuffle=False,\n",
    "                             repeat=1))\n",
    "\n",
    "test_eval_result = model.evaluate(\n",
    "    input_fn=lambda:input_fn(X_test, y_test,\n",
    "                             batch_size,\n",
    "                             shuffle=False,\n",
    "                             repeat=1))"
   ]
  },
  {
   "cell_type": "code",
   "execution_count": 18,
   "metadata": {},
   "outputs": [
    {
     "data": {
      "text/plain": [
       "{'accuracy': 0.96190476,\n",
       " 'average_loss': 0.07840017,\n",
       " 'loss': 2.0580046,\n",
       " 'global_step': 3000}"
      ]
     },
     "execution_count": 18,
     "metadata": {},
     "output_type": "execute_result"
    }
   ],
   "source": [
    "train_eval_result"
   ]
  },
  {
   "cell_type": "code",
   "execution_count": 19,
   "metadata": {},
   "outputs": [
    {
     "data": {
      "text/plain": [
       "{'accuracy': 0.93333334,\n",
       " 'average_loss': 0.14648946,\n",
       " 'loss': 3.2960129,\n",
       " 'global_step': 3000}"
      ]
     },
     "execution_count": 19,
     "metadata": {},
     "output_type": "execute_result"
    }
   ],
   "source": [
    "test_eval_result"
   ]
  },
  {
   "cell_type": "markdown",
   "metadata": {},
   "source": [
    "### Predict on new data"
   ]
  },
  {
   "cell_type": "code",
   "execution_count": 20,
   "metadata": {},
   "outputs": [],
   "source": [
    "predict_x = {\n",
    "    'sepal_length': [5.1, 5.9, 6.9],\n",
    "    'sepal_width': [3.3, 3.0, 3.1],\n",
    "    'petal_length': [1.7, 4.2, 5.4],\n",
    "    'petal_width': [0.5, 1.5, 2.1],\n",
    "}"
   ]
  },
  {
   "cell_type": "code",
   "execution_count": 21,
   "metadata": {},
   "outputs": [],
   "source": [
    "expected = ['setosa', 'versicolor', 'virginica']"
   ]
  },
  {
   "cell_type": "code",
   "execution_count": 22,
   "metadata": {},
   "outputs": [],
   "source": [
    "predictions = model.predict(\n",
    "    input_fn=lambda:input_fn(predict_x,\n",
    "                             labels=None,\n",
    "                             batch_size=batch_size,\n",
    "                             shuffle=False,\n",
    "                             repeat=1))"
   ]
  },
  {
   "cell_type": "code",
   "execution_count": 23,
   "metadata": {},
   "outputs": [
    {
     "data": {
      "text/plain": [
       "<generator object Estimator.predict at 0x7f09532cbfc0>"
      ]
     },
     "execution_count": 23,
     "metadata": {},
     "output_type": "execute_result"
    }
   ],
   "source": [
    "predictions"
   ]
  },
  {
   "cell_type": "code",
   "execution_count": 24,
   "metadata": {},
   "outputs": [
    {
     "name": "stdout",
     "output_type": "stream",
     "text": [
      "INFO:tensorflow:Calling model_fn.\n",
      "INFO:tensorflow:Done calling model_fn.\n",
      "INFO:tensorflow:Graph was finalized.\n",
      "INFO:tensorflow:Restoring parameters from ./models/iris/DNN/model.ckpt-3000\n",
      "INFO:tensorflow:Running local_init_op.\n",
      "INFO:tensorflow:Done running local_init_op.\n",
      "\n",
      "Prediction is \"setosa\", prob: 100.0%, expected \"setosa\"\n",
      "\n",
      "Prediction is \"versicolor\", prob: 100.0%, expected \"versicolor\"\n",
      "\n",
      "Prediction is \"virginica\", prob: 95.3%, expected \"virginica\"\n"
     ]
    }
   ],
   "source": [
    "template = ('\\nPrediction is \"{}\", prob: {:.1f}%, expected \"{}\"')\n",
    "\n",
    "for pred_dict, expec in zip(predictions, expected):\n",
    "    \n",
    "    class_id = pred_dict['class_ids'][0]\n",
    "    probability = pred_dict['probabilities'][class_id]\n",
    "    pred_label = labels[class_id]\n",
    "\n",
    "    print(template.format(pred_label, 100 * probability, expec))"
   ]
  },
  {
   "cell_type": "code",
   "execution_count": 25,
   "metadata": {},
   "outputs": [
    {
     "data": {
      "text/plain": [
       "{'logits': array([-10.1251955,   0.6413118,   3.650877 ], dtype=float32),\n",
       " 'probabilities': array([9.9133899e-07, 4.6995573e-02, 9.5300347e-01], dtype=float32),\n",
       " 'class_ids': array([2]),\n",
       " 'classes': array([b'virginica'], dtype=object)}"
      ]
     },
     "execution_count": 25,
     "metadata": {},
     "output_type": "execute_result"
    }
   ],
   "source": [
    "pred_dict"
   ]
  },
  {
   "cell_type": "markdown",
   "metadata": {},
   "source": [
    "## Exercise 1\n",
    "\n",
    "The `tf.estimator` module offers 2 additional canned classifiers:\n",
    "\n",
    "- `tf.estimator.BaselineClassifier`\n",
    "- `tf.estimator.LinearClassifier`\n",
    "\n",
    "What do they do?\n",
    "\n",
    "Try substituting them in the model definition and re-run the trainin, evaluation and prediction steps.\n",
    "Is the performance better or worse?\n",
    "\n",
    "Note: you can set the logging level of tensorflow with `tf.logging.set_verbosity`"
   ]
  },
  {
   "cell_type": "code",
   "execution_count": 38,
   "metadata": {
    "collapsed": true
   },
   "outputs": [
    {
     "name": "stdout",
     "output_type": "stream",
     "text": [
      "INFO:tensorflow:Using default config.\n",
      "INFO:tensorflow:Using config: {'_model_dir': './models/iris/Baseline', '_tf_random_seed': None, '_save_summary_steps': 100, '_save_checkpoints_steps': None, '_save_checkpoints_secs': 600, '_session_config': None, '_keep_checkpoint_max': 5, '_keep_checkpoint_every_n_hours': 10000, '_log_step_count_steps': 100, '_train_distribute': None, '_device_fn': None, '_service': None, '_cluster_spec': <tensorflow.python.training.server_lib.ClusterSpec object at 0x7f09da41b208>, '_task_type': 'worker', '_task_id': 0, '_global_id_in_cluster': 0, '_master': '', '_evaluation_master': '', '_is_chief': True, '_num_ps_replicas': 0, '_num_worker_replicas': 1}\n"
     ]
    }
   ],
   "source": [
    "model = tf.estimator.BaselineClassifier(\n",
    "    model_dir='./models/iris/Baseline',\n",
    "    n_classes=3,\n",
    "    label_vocabulary=labels\n",
    ")"
   ]
  },
  {
   "cell_type": "code",
   "execution_count": 39,
   "metadata": {},
   "outputs": [
    {
     "name": "stdout",
     "output_type": "stream",
     "text": [
      "INFO:tensorflow:Calling model_fn.\n",
      "INFO:tensorflow:Done calling model_fn.\n",
      "INFO:tensorflow:Create CheckpointSaverHook.\n",
      "INFO:tensorflow:Graph was finalized.\n",
      "INFO:tensorflow:Running local_init_op.\n",
      "INFO:tensorflow:Done running local_init_op.\n",
      "INFO:tensorflow:Saving checkpoints for 0 into ./models/iris/Baseline/model.ckpt.\n",
      "INFO:tensorflow:loss = 35.155594, step = 0\n",
      "INFO:tensorflow:global_step/sec: 283.291\n",
      "INFO:tensorflow:loss = 35.096718, step = 100 (0.355 sec)\n",
      "INFO:tensorflow:global_step/sec: 293.276\n",
      "INFO:tensorflow:loss = 35.09646, step = 200 (0.340 sec)\n",
      "INFO:tensorflow:global_step/sec: 316.788\n",
      "INFO:tensorflow:loss = 34.967148, step = 300 (0.315 sec)\n",
      "INFO:tensorflow:global_step/sec: 315.625\n",
      "INFO:tensorflow:loss = 34.718163, step = 400 (0.317 sec)\n",
      "INFO:tensorflow:global_step/sec: 313.513\n",
      "INFO:tensorflow:loss = 34.691345, step = 500 (0.319 sec)\n",
      "INFO:tensorflow:global_step/sec: 305.082\n",
      "INFO:tensorflow:loss = 35.18364, step = 600 (0.327 sec)\n",
      "INFO:tensorflow:global_step/sec: 295.491\n",
      "INFO:tensorflow:loss = 35.465263, step = 700 (0.338 sec)\n",
      "INFO:tensorflow:global_step/sec: 274.018\n",
      "INFO:tensorflow:loss = 35.046062, step = 800 (0.366 sec)\n",
      "INFO:tensorflow:global_step/sec: 293.72\n",
      "INFO:tensorflow:loss = 34.72865, step = 900 (0.340 sec)\n",
      "INFO:tensorflow:global_step/sec: 311.032\n",
      "INFO:tensorflow:loss = 35.398277, step = 1000 (0.322 sec)\n",
      "INFO:tensorflow:global_step/sec: 295.469\n",
      "INFO:tensorflow:loss = 34.831886, step = 1100 (0.340 sec)\n",
      "INFO:tensorflow:global_step/sec: 290.393\n",
      "INFO:tensorflow:loss = 34.915344, step = 1200 (0.342 sec)\n",
      "INFO:tensorflow:global_step/sec: 320.932\n",
      "INFO:tensorflow:loss = 35.26051, step = 1300 (0.312 sec)\n",
      "INFO:tensorflow:global_step/sec: 302.718\n",
      "INFO:tensorflow:loss = 34.99638, step = 1400 (0.330 sec)\n",
      "INFO:tensorflow:global_step/sec: 313.59\n",
      "INFO:tensorflow:loss = 35.179634, step = 1500 (0.319 sec)\n",
      "INFO:tensorflow:global_step/sec: 322.488\n",
      "INFO:tensorflow:loss = 34.56481, step = 1600 (0.311 sec)\n",
      "INFO:tensorflow:global_step/sec: 315.761\n",
      "INFO:tensorflow:loss = 35.66251, step = 1700 (0.317 sec)\n",
      "INFO:tensorflow:global_step/sec: 306.761\n",
      "INFO:tensorflow:loss = 34.80184, step = 1800 (0.326 sec)\n",
      "INFO:tensorflow:global_step/sec: 320.314\n",
      "INFO:tensorflow:loss = 34.717995, step = 1900 (0.313 sec)\n",
      "INFO:tensorflow:global_step/sec: 296.766\n",
      "INFO:tensorflow:loss = 35.08351, step = 2000 (0.337 sec)\n",
      "INFO:tensorflow:global_step/sec: 310.743\n",
      "INFO:tensorflow:loss = 35.772736, step = 2100 (0.323 sec)\n",
      "INFO:tensorflow:global_step/sec: 314.45\n",
      "INFO:tensorflow:loss = 34.52218, step = 2200 (0.319 sec)\n",
      "INFO:tensorflow:global_step/sec: 323.242\n",
      "INFO:tensorflow:loss = 35.23803, step = 2300 (0.307 sec)\n",
      "INFO:tensorflow:global_step/sec: 308.748\n",
      "INFO:tensorflow:loss = 35.31141, step = 2400 (0.324 sec)\n",
      "INFO:tensorflow:global_step/sec: 308.473\n",
      "INFO:tensorflow:loss = 34.97497, step = 2500 (0.325 sec)\n",
      "INFO:tensorflow:global_step/sec: 314.852\n",
      "INFO:tensorflow:loss = 34.972202, step = 2600 (0.318 sec)\n",
      "INFO:tensorflow:global_step/sec: 322.549\n",
      "INFO:tensorflow:loss = 35.32319, step = 2700 (0.310 sec)\n",
      "INFO:tensorflow:global_step/sec: 312.456\n",
      "INFO:tensorflow:loss = 34.521214, step = 2800 (0.320 sec)\n",
      "INFO:tensorflow:global_step/sec: 315.05\n",
      "INFO:tensorflow:loss = 35.388535, step = 2900 (0.318 sec)\n",
      "INFO:tensorflow:Saving checkpoints for 3000 into ./models/iris/Baseline/model.ckpt.\n",
      "INFO:tensorflow:Loss for final step: 34.579506.\n"
     ]
    },
    {
     "data": {
      "text/plain": [
       "<tensorflow.python.estimator.canned.baseline.BaselineClassifier at 0x7f09da41b048>"
      ]
     },
     "execution_count": 39,
     "metadata": {},
     "output_type": "execute_result"
    }
   ],
   "source": [
    "model.train(\n",
    "    input_fn=train_input_fn,\n",
    "    steps=3000)"
   ]
  },
  {
   "cell_type": "code",
   "execution_count": 32,
   "metadata": {},
   "outputs": [
    {
     "name": "stdout",
     "output_type": "stream",
     "text": [
      "INFO:tensorflow:Calling model_fn.\n",
      "INFO:tensorflow:Done calling model_fn.\n",
      "INFO:tensorflow:Starting evaluation at 2018-09-21-17:25:09\n",
      "INFO:tensorflow:Graph was finalized.\n",
      "INFO:tensorflow:Restoring parameters from /tmp/tmpbtar4p83/model.ckpt-3000\n",
      "INFO:tensorflow:Running local_init_op.\n",
      "INFO:tensorflow:Done running local_init_op.\n",
      "INFO:tensorflow:Finished evaluation at 2018-09-21-17:25:09\n",
      "INFO:tensorflow:Saving dict for global step 3000: accuracy = 0.37142858, average_loss = 1.0951169, global_step = 3000, loss = 28.746817\n",
      "INFO:tensorflow:Saving 'checkpoint_path' summary for global step 3000: /tmp/tmpbtar4p83/model.ckpt-3000\n",
      "INFO:tensorflow:Calling model_fn.\n",
      "INFO:tensorflow:Done calling model_fn.\n",
      "INFO:tensorflow:Starting evaluation at 2018-09-21-17:25:09\n",
      "INFO:tensorflow:Graph was finalized.\n",
      "INFO:tensorflow:Restoring parameters from /tmp/tmpbtar4p83/model.ckpt-3000\n",
      "INFO:tensorflow:Running local_init_op.\n",
      "INFO:tensorflow:Done running local_init_op.\n",
      "INFO:tensorflow:Finished evaluation at 2018-09-21-17:25:10\n",
      "INFO:tensorflow:Saving dict for global step 3000: accuracy = 0.24444444, average_loss = 1.1184242, global_step = 3000, loss = 25.164545\n",
      "INFO:tensorflow:Saving 'checkpoint_path' summary for global step 3000: /tmp/tmpbtar4p83/model.ckpt-3000\n"
     ]
    }
   ],
   "source": [
    "train_eval_result = model.evaluate(\n",
    "    input_fn=lambda:input_fn(X_train, y_train,\n",
    "                             batch_size,\n",
    "                             shuffle=False,\n",
    "                             repeat=1))\n",
    "\n",
    "test_eval_result = model.evaluate(\n",
    "    input_fn=lambda:input_fn(X_test, y_test,\n",
    "                             batch_size,\n",
    "                             shuffle=False,\n",
    "                             repeat=1))"
   ]
  },
  {
   "cell_type": "code",
   "execution_count": 33,
   "metadata": {},
   "outputs": [
    {
     "data": {
      "text/plain": [
       "{'accuracy': 0.37142858,\n",
       " 'average_loss': 1.0951169,\n",
       " 'loss': 28.746817,\n",
       " 'global_step': 3000}"
      ]
     },
     "execution_count": 33,
     "metadata": {},
     "output_type": "execute_result"
    }
   ],
   "source": [
    "train_eval_result"
   ]
  },
  {
   "cell_type": "code",
   "execution_count": 34,
   "metadata": {},
   "outputs": [
    {
     "data": {
      "text/plain": [
       "{'accuracy': 0.24444444,\n",
       " 'average_loss': 1.1184242,\n",
       " 'loss': 25.164545,\n",
       " 'global_step': 3000}"
      ]
     },
     "execution_count": 34,
     "metadata": {},
     "output_type": "execute_result"
    }
   ],
   "source": [
    "test_eval_result"
   ]
  },
  {
   "cell_type": "code",
   "execution_count": 46,
   "metadata": {},
   "outputs": [
    {
     "name": "stdout",
     "output_type": "stream",
     "text": [
      "INFO:tensorflow:Using default config.\n",
      "INFO:tensorflow:Using config: {'_model_dir': './models/iris/Linear', '_tf_random_seed': None, '_save_summary_steps': 100, '_save_checkpoints_steps': None, '_save_checkpoints_secs': 600, '_session_config': None, '_keep_checkpoint_max': 5, '_keep_checkpoint_every_n_hours': 10000, '_log_step_count_steps': 100, '_train_distribute': None, '_device_fn': None, '_service': None, '_cluster_spec': <tensorflow.python.training.server_lib.ClusterSpec object at 0x7f09da5a6860>, '_task_type': 'worker', '_task_id': 0, '_global_id_in_cluster': 0, '_master': '', '_evaluation_master': '', '_is_chief': True, '_num_ps_replicas': 0, '_num_worker_replicas': 1}\n"
     ]
    }
   ],
   "source": [
    "model = tf.estimator.LinearClassifier(\n",
    "    feature_columns=feature_columns,\n",
    "    model_dir='./models/iris/Linear',\n",
    "    n_classes=3,\n",
    "    label_vocabulary=labels\n",
    ")"
   ]
  },
  {
   "cell_type": "code",
   "execution_count": 47,
   "metadata": {},
   "outputs": [
    {
     "name": "stdout",
     "output_type": "stream",
     "text": [
      "INFO:tensorflow:Calling model_fn.\n",
      "INFO:tensorflow:Done calling model_fn.\n",
      "INFO:tensorflow:Create CheckpointSaverHook.\n",
      "INFO:tensorflow:Graph was finalized.\n",
      "INFO:tensorflow:Running local_init_op.\n",
      "INFO:tensorflow:Done running local_init_op.\n",
      "INFO:tensorflow:Saving checkpoints for 0 into ./models/iris/Linear/model.ckpt.\n",
      "INFO:tensorflow:loss = 35.155594, step = 0\n",
      "INFO:tensorflow:global_step/sec: 228.24\n",
      "INFO:tensorflow:loss = 10.22942, step = 100 (0.439 sec)\n",
      "INFO:tensorflow:global_step/sec: 251.025\n",
      "INFO:tensorflow:loss = 9.105755, step = 200 (0.399 sec)\n",
      "INFO:tensorflow:global_step/sec: 252.663\n",
      "INFO:tensorflow:loss = 6.555258, step = 300 (0.395 sec)\n",
      "INFO:tensorflow:global_step/sec: 255.472\n",
      "INFO:tensorflow:loss = 7.8035913, step = 400 (0.392 sec)\n",
      "INFO:tensorflow:global_step/sec: 254.484\n",
      "INFO:tensorflow:loss = 5.8076077, step = 500 (0.393 sec)\n",
      "INFO:tensorflow:global_step/sec: 268.707\n",
      "INFO:tensorflow:loss = 6.6012173, step = 600 (0.372 sec)\n",
      "INFO:tensorflow:global_step/sec: 258.445\n",
      "INFO:tensorflow:loss = 7.473832, step = 700 (0.387 sec)\n",
      "INFO:tensorflow:global_step/sec: 251.902\n",
      "INFO:tensorflow:loss = 3.705447, step = 800 (0.398 sec)\n",
      "INFO:tensorflow:global_step/sec: 249.854\n",
      "INFO:tensorflow:loss = 2.6684184, step = 900 (0.399 sec)\n",
      "INFO:tensorflow:global_step/sec: 275.051\n",
      "INFO:tensorflow:loss = 4.6594048, step = 1000 (0.363 sec)\n",
      "INFO:tensorflow:global_step/sec: 261.716\n",
      "INFO:tensorflow:loss = 3.0023785, step = 1100 (0.382 sec)\n",
      "INFO:tensorflow:global_step/sec: 256.503\n",
      "INFO:tensorflow:loss = 3.0534523, step = 1200 (0.390 sec)\n",
      "INFO:tensorflow:global_step/sec: 254.314\n",
      "INFO:tensorflow:loss = 3.8390617, step = 1300 (0.394 sec)\n",
      "INFO:tensorflow:global_step/sec: 241.886\n",
      "INFO:tensorflow:loss = 3.6411767, step = 1400 (0.414 sec)\n",
      "INFO:tensorflow:global_step/sec: 245.403\n",
      "INFO:tensorflow:loss = 2.1607158, step = 1500 (0.407 sec)\n",
      "INFO:tensorflow:global_step/sec: 259.08\n",
      "INFO:tensorflow:loss = 3.2081532, step = 1600 (0.387 sec)\n",
      "INFO:tensorflow:global_step/sec: 254.977\n",
      "INFO:tensorflow:loss = 5.1075897, step = 1700 (0.392 sec)\n",
      "INFO:tensorflow:global_step/sec: 256.096\n",
      "INFO:tensorflow:loss = 3.5048356, step = 1800 (0.390 sec)\n",
      "INFO:tensorflow:global_step/sec: 252.514\n",
      "INFO:tensorflow:loss = 5.2605286, step = 1900 (0.396 sec)\n",
      "INFO:tensorflow:global_step/sec: 251.683\n",
      "INFO:tensorflow:loss = 4.186486, step = 2000 (0.399 sec)\n",
      "INFO:tensorflow:global_step/sec: 255.293\n",
      "INFO:tensorflow:loss = 3.7356257, step = 2100 (0.390 sec)\n",
      "INFO:tensorflow:global_step/sec: 282.048\n",
      "INFO:tensorflow:loss = 2.3977578, step = 2200 (0.355 sec)\n",
      "INFO:tensorflow:global_step/sec: 256.026\n",
      "INFO:tensorflow:loss = 2.595342, step = 2300 (0.391 sec)\n",
      "INFO:tensorflow:global_step/sec: 254.169\n",
      "INFO:tensorflow:loss = 3.9602368, step = 2400 (0.393 sec)\n",
      "INFO:tensorflow:global_step/sec: 259.208\n",
      "INFO:tensorflow:loss = 3.139224, step = 2500 (0.386 sec)\n",
      "INFO:tensorflow:global_step/sec: 251.148\n",
      "INFO:tensorflow:loss = 2.052855, step = 2600 (0.398 sec)\n",
      "INFO:tensorflow:global_step/sec: 254.65\n",
      "INFO:tensorflow:loss = 1.5844054, step = 2700 (0.393 sec)\n",
      "INFO:tensorflow:global_step/sec: 247.868\n",
      "INFO:tensorflow:loss = 1.8840098, step = 2800 (0.404 sec)\n",
      "INFO:tensorflow:global_step/sec: 255.001\n",
      "INFO:tensorflow:loss = 2.727738, step = 2900 (0.392 sec)\n",
      "INFO:tensorflow:Saving checkpoints for 3000 into ./models/iris/Linear/model.ckpt.\n",
      "INFO:tensorflow:Loss for final step: 3.025655.\n",
      "INFO:tensorflow:Calling model_fn.\n",
      "INFO:tensorflow:Done calling model_fn.\n",
      "INFO:tensorflow:Starting evaluation at 2018-09-21-17:37:15\n",
      "INFO:tensorflow:Graph was finalized.\n",
      "INFO:tensorflow:Restoring parameters from ./models/iris/Linear/model.ckpt-3000\n",
      "INFO:tensorflow:Running local_init_op.\n",
      "INFO:tensorflow:Done running local_init_op.\n",
      "INFO:tensorflow:Finished evaluation at 2018-09-21-17:37:16\n",
      "INFO:tensorflow:Saving dict for global step 3000: accuracy = 0.9809524, average_loss = 0.08569705, global_step = 3000, loss = 2.2495475\n",
      "INFO:tensorflow:Saving 'checkpoint_path' summary for global step 3000: ./models/iris/Linear/model.ckpt-3000\n",
      "INFO:tensorflow:Calling model_fn.\n",
      "INFO:tensorflow:Done calling model_fn.\n",
      "INFO:tensorflow:Starting evaluation at 2018-09-21-17:37:16\n",
      "INFO:tensorflow:Graph was finalized.\n",
      "INFO:tensorflow:Restoring parameters from ./models/iris/Linear/model.ckpt-3000\n",
      "INFO:tensorflow:Running local_init_op.\n",
      "INFO:tensorflow:Done running local_init_op.\n",
      "INFO:tensorflow:Finished evaluation at 2018-09-21-17:37:16\n",
      "INFO:tensorflow:Saving dict for global step 3000: accuracy = 0.9777778, average_loss = 0.108795665, global_step = 3000, loss = 2.4479024\n",
      "INFO:tensorflow:Saving 'checkpoint_path' summary for global step 3000: ./models/iris/Linear/model.ckpt-3000\n"
     ]
    }
   ],
   "source": [
    "model.train(\n",
    "    input_fn=train_input_fn,\n",
    "    steps=3000)\n",
    "\n",
    "train_eval_result = model.evaluate(\n",
    "    input_fn=lambda:input_fn(X_train, y_train,\n",
    "                             batch_size,\n",
    "                             shuffle=False,\n",
    "                             repeat=1))\n",
    "\n",
    "test_eval_result = model.evaluate(\n",
    "    input_fn=lambda:input_fn(X_test, y_test,\n",
    "                             batch_size,\n",
    "                             shuffle=False,\n",
    "                             repeat=1))"
   ]
  },
  {
   "cell_type": "code",
   "execution_count": 48,
   "metadata": {},
   "outputs": [
    {
     "data": {
      "text/plain": [
       "{'accuracy': 0.9809524,\n",
       " 'average_loss': 0.08569705,\n",
       " 'loss': 2.2495475,\n",
       " 'global_step': 3000}"
      ]
     },
     "execution_count": 48,
     "metadata": {},
     "output_type": "execute_result"
    }
   ],
   "source": [
    "train_eval_result"
   ]
  },
  {
   "cell_type": "code",
   "execution_count": 49,
   "metadata": {},
   "outputs": [
    {
     "data": {
      "text/plain": [
       "{'accuracy': 0.9777778,\n",
       " 'average_loss': 0.108795665,\n",
       " 'loss': 2.4479024,\n",
       " 'global_step': 3000}"
      ]
     },
     "execution_count": 49,
     "metadata": {},
     "output_type": "execute_result"
    }
   ],
   "source": [
    "test_eval_result"
   ]
  },
  {
   "cell_type": "markdown",
   "metadata": {},
   "source": [
    "## Exercise 2\n",
    "\n",
    "Visualize the training results with tensorboard:\n",
    "\n",
    "- in a terminal, from the notebook folder, run tensorboard with `tensorboard --logdir=models`\n",
    "- open the browser at [http://localhost:6006](http://localhost:6006)\n",
    "\n"
   ]
  },
  {
   "cell_type": "code",
   "execution_count": null,
   "metadata": {
    "collapsed": true
   },
   "outputs": [],
   "source": []
  }
 ],
 "metadata": {
  "kernelspec": {
   "display_name": "Python 3",
   "language": "python",
   "name": "python3"
  },
  "language_info": {
   "codemirror_mode": {
    "name": "ipython",
    "version": 3
   },
   "file_extension": ".py",
   "mimetype": "text/x-python",
   "name": "python",
   "nbconvert_exporter": "python",
   "pygments_lexer": "ipython3",
   "version": "3.6.6"
  }
 },
 "nbformat": 4,
 "nbformat_minor": 2
}
